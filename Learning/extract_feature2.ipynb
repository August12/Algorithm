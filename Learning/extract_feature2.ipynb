{
 "cells": [
  {
   "cell_type": "code",
   "execution_count": 1,
   "metadata": {},
   "outputs": [],
   "source": [
    "import glob\n",
    "import librosa\n",
    "import numpy as np\n",
    "import matplotlib.pyplot as plt\n",
    "import librosa.display\n",
    "\n",
    "def extract_feature(file_name):\n",
    "    X, sample_rate = librosa.load(file_name)\n",
    "    stft = np.abs(librosa.stft(X))\n",
    "    mfccs = np.mean(librosa.feature.mfcc(y=X, sr=sample_rate, n_mfcc=40).T,axis=0)\n",
    "    chroma = np.mean(librosa.feature.chroma_stft(S=stft, sr=sample_rate).T,axis=0)\n",
    "    mel = np.mean(librosa.feature.melspectrogram(X, sr=sample_rate).T,axis=0)\n",
    "    contrast = np.mean(librosa.feature.spectral_contrast(S=stft, sr=sample_rate).T,axis=0)\n",
    "    tonnetz = np.mean(librosa.feature.tonnetz(y=librosa.effects.harmonic(X), sr=sample_rate).T,axis=0)\n",
    "    return mfccs,chroma,mel,contrast,tonnetz\n",
    "\n",
    "def parse_audio_files(filenames):\n",
    "    rows = len(filenames)\n",
    "    features, labels = np.zeros((rows,193)), np.zeros((rows,3))\n",
    "    i = 0\n",
    "    for fn in filenames:\n",
    "        try:\n",
    "            mfccs, chroma, mel, contrast,tonnetz = extract_feature(fn)\n",
    "            ext_features = np.hstack([mfccs,chroma,mel,contrast,tonnetz])\n",
    "            if ((fn.split('/')[1].split('_')[0]) == 'baby'):\n",
    "                y_col = 0\n",
    "            elif ((fn.split('/')[1].split('_')[0]) == 'dog'):\n",
    "                y_col = 1\n",
    "            else:\n",
    "                y_col = 2\n",
    "        except:\n",
    "            print(fn)\n",
    "        else:\n",
    "            features[i] = ext_features\n",
    "            labels[i, y_col] = 1\n",
    "            i += 1\n",
    "    return features, labels\n",
    "\n",
    "\n",
    "audio_files = []\n",
    "audio_files.extend(glob.glob('workspace/*.wav'))\n",
    "\n",
    "X, y = parse_audio_files(audio_files)\n",
    "np.savez('workspace/sound_data.npz',X=X,y=y)\n",
    "\n",
    "\n",
    "\n",
    "    \n"
   ]
  },
  {
   "cell_type": "code",
   "execution_count": null,
   "metadata": {},
   "outputs": [],
   "source": []
  },
  {
   "cell_type": "code",
   "execution_count": null,
   "metadata": {},
   "outputs": [],
   "source": []
  }
 ],
 "metadata": {
  "kernelspec": {
   "display_name": "Python 3",
   "language": "python",
   "name": "python3"
  },
  "language_info": {
   "codemirror_mode": {
    "name": "ipython",
    "version": 3
   },
   "file_extension": ".py",
   "mimetype": "text/x-python",
   "name": "python",
   "nbconvert_exporter": "python",
   "pygments_lexer": "ipython3",
   "version": "3.6.4"
  }
 },
 "nbformat": 4,
 "nbformat_minor": 2
}
