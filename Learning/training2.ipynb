{
 "cells": [
  {
   "cell_type": "code",
   "execution_count": null,
   "metadata": {},
   "outputs": [],
   "source": [
    "#-*- coding: utf-8 -*-\n",
    "#한글쓰기위에서 위 코드 추가\n",
    "import numpy as np\n",
    "import tensorflow as tf"
   ]
  },
  {
   "cell_type": "code",
   "execution_count": null,
   "metadata": {},
   "outputs": [],
   "source": [
    "training_epochs = 500 # 학습 횟수\n",
    "n_dim = 193\n",
    "n_classes = 3\n",
    "learning_rate = 0.01 # 학습 비율\n",
    "sd = 1/np.sqrt(n_dim) # 표준 편차"
   ]
  },
  {
   "cell_type": "code",
   "execution_count": 3,
   "metadata": {},
   "outputs": [],
   "source": [
    "n_hidden_units_one = 300\n",
    "n_hidden_units_two = 200\n",
    "n_hidden_units_three = 100"
   ]
  },
  {
   "cell_type": "code",
   "execution_count": 4,
   "metadata": {},
   "outputs": [],
   "source": [
    "X = tf.placeholder(tf.float32,[None,n_dim]) # 입력 데이터 파라미터\n",
    "Y = tf.placeholder(tf.float32,[None,n_classes]) # 정답 데이터 파라미터"
   ]
  },
  {
   "cell_type": "code",
   "execution_count": 5,
   "metadata": {},
   "outputs": [],
   "source": [
    "# 1차 히든 레이어(원소까지 랜덤인 배열 생성)\n",
    "W_1 = tf.Variable(tf.random_normal([n_dim, n_hidden_units_one], mean=0, stddev=sd), name=\"w1\")\n",
    "b_1 = tf.Variable(tf.random_normal([n_hidden_units_one], mean=0, stddev=sd), name=\"b1\")\n",
    "h_1 = tf.nn.relu(tf.matmul(X, W_1) + b_1)"
   ]
  },
  {
   "cell_type": "code",
   "execution_count": 6,
   "metadata": {},
   "outputs": [],
   "source": [
    "# 2차 히든 레이어\n",
    "W_2 = tf.Variable(tf.random_normal([n_hidden_units_one, n_hidden_units_two], mean=0, stddev=sd), name=\"w2\")\n",
    "b_2 = tf.Variable(tf.random_normal([n_hidden_units_two], mean=0, stddev=sd), name=\"b2\")\n",
    "h_2 = tf.nn.tanh(tf.matmul(h_1, W_2) + b_2)"
   ]
  },
  {
   "cell_type": "code",
   "execution_count": 7,
   "metadata": {},
   "outputs": [],
   "source": [
    "# 3차 히든 레이어\n",
    "W_3 = tf.Variable(tf.random_normal([n_hidden_units_two, n_hidden_units_three], mean=0, stddev=sd), name=\"w3\")\n",
    "b_3 = tf.Variable(tf.random_normal([n_hidden_units_three], mean=0, stddev=sd), name=\"b3\")\n",
    "h_3 = tf.nn.relu(tf.matmul(h_2, W_3) + b_3)"
   ]
  },
  {
   "cell_type": "code",
   "execution_count": 8,
   "metadata": {},
   "outputs": [],
   "source": [
    "# 드롭아웃 과정 추가\n",
    "keep_prob = tf.placeholder(tf.float32)\n",
    "h_3_drop = tf.nn.dropout(h_3, keep_prob, name=\"h3\")"
   ]
  },
  {
   "cell_type": "code",
   "execution_count": 9,
   "metadata": {},
   "outputs": [],
   "source": [
    "W = tf.Variable(tf.random_normal([n_hidden_units_three, n_classes], mean=0, stddev=sd), name=\"w\")\n",
    "b = tf.Variable(tf.random_normal([n_classes], mean = 0, stddev=sd), name=\"b\")\n",
    "y_ = tf.nn.softmax(tf.matmul(h_3_drop, W) + b, name=\"op_to_restore\")\n",
    "\n",
    "cross_entropy = -tf.reduce_sum(Y*tf.log(tf.clip_by_value(y_, 1e-10, 1.0)))\n",
    "train_step = tf.train.AdamOptimizer(1e-4).minimize(cross_entropy)\n"
   ]
  },
  {
   "cell_type": "code",
   "execution_count": 14,
   "metadata": {},
   "outputs": [
    {
     "name": "stdout",
     "output_type": "stream",
     "text": [
      "step 0, training accuracy 0.35\n",
      "step 100, training accuracy 1\n",
      "step 200, training accuracy 1\n",
      "step 300, training accuracy 1\n",
      "step 400, training accuracy 1\n",
      "[[4.4291466e-03 9.9479854e-01 7.7230402e-04]]\n",
      "[1]\n",
      "[99.47985]\n",
      "분류된 소리는 : 99.48 로 뭐입니다\n"
     ]
    }
   ],
   "source": [
    "saver = tf.train.Saver()\n",
    "\n",
    "\n",
    "correct_prediction = tf.equal(tf.argmax(y_, 1), tf.argmax(Y, 1))\n",
    "accuracy = tf.reduce_mean(tf.cast(correct_prediction, tf.float32))\n",
    "\n",
    "with tf.Session() as sess:\n",
    "    sess.run(tf.initialize_all_variables())\n",
    "    sound_data = np.load('workspace/sound_data.npz')\n",
    "    test_data = np.load('workspace/dog_data.npz')\n",
    "    X_data = sound_data['X']\n",
    "    y_data = sound_data['y']\n",
    "    X_test = test_data['X']\n",
    "    \n",
    "    for epoch in range(training_epochs):\n",
    "        sess.run(train_step, feed_dict={X: X_data, Y: y_data, keep_prob: 0.5 })\n",
    "        \n",
    "        if epoch%100 == 0 :\n",
    "            train_accuracy = sess.run(accuracy, feed_dict={X: X_data, Y: y_data, keep_prob: 1.0})\n",
    "            print(\"step %d, training accuracy %g\"%(epoch, train_accuracy))\n",
    "            \n",
    "    save_path = saver.save(sess, \"workspace/sound_model.ckpt\")\n",
    "    \n",
    "    answer = sess.run(y_, feed_dict={X: X_test, keep_prob: 0.5})\n",
    "    index = tf.argmax(answer,1).eval(session=sess)\n",
    "    \n",
    "    print(answer)\n",
    "    print(index)\n",
    "    \n",
    "    raw = answer[0,index]*100\n",
    "    \n",
    "    print(raw)\n",
    "    \n",
    "    if(10>raw) :\n",
    "        print(\"일치하는 소리가 없습니다.\")\n",
    "    else :\n",
    "        print(\"분류된 소리는 : %.2f 로 뭐입니다\" % raw)\n",
    "    \n",
    "    \n",
    "    \n",
    "\n",
    "    \n",
    "    \n",
    "    \n",
    "    "
   ]
  }
 ],
 "metadata": {
  "kernelspec": {
   "display_name": "Python 3",
   "language": "python",
   "name": "python3"
  },
  "language_info": {
   "codemirror_mode": {
    "name": "ipython",
    "version": 3
   },
   "file_extension": ".py",
   "mimetype": "text/x-python",
   "name": "python",
   "nbconvert_exporter": "python",
   "pygments_lexer": "ipython3",
   "version": "3.6.4"
  }
 },
 "nbformat": 4,
 "nbformat_minor": 2
}
